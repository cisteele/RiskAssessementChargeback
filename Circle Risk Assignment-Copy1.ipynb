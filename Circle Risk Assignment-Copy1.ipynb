{
 "cells": [
  {
   "cell_type": "code",
   "execution_count": 1,
   "metadata": {},
   "outputs": [],
   "source": [
    "import pandas as pd\n",
    "import numpy as np\n",
    "import matplotlib.pyplot as plt\n",
    "import seaborn as sns\n",
    "from scipy import stats"
   ]
  },
  {
   "cell_type": "code",
   "execution_count": 2,
   "metadata": {},
   "outputs": [],
   "source": [
    "df = pd.read_excel(\"Circle Risk_ [Analytics] Take Home Assignment Dataset.xlsx\")"
   ]
  },
  {
   "cell_type": "code",
   "execution_count": 3,
   "metadata": {},
   "outputs": [
    {
     "data": {
      "text/html": [
       "<div>\n",
       "<style scoped>\n",
       "    .dataframe tbody tr th:only-of-type {\n",
       "        vertical-align: middle;\n",
       "    }\n",
       "\n",
       "    .dataframe tbody tr th {\n",
       "        vertical-align: top;\n",
       "    }\n",
       "\n",
       "    .dataframe thead th {\n",
       "        text-align: right;\n",
       "    }\n",
       "</style>\n",
       "<table border=\"1\" class=\"dataframe\">\n",
       "  <thead>\n",
       "    <tr style=\"text-align: right;\">\n",
       "      <th></th>\n",
       "      <th>merchant</th>\n",
       "      <th>activity</th>\n",
       "      <th>create_date</th>\n",
       "      <th>amount</th>\n",
       "      <th>job_id</th>\n",
       "    </tr>\n",
       "  </thead>\n",
       "  <tbody>\n",
       "    <tr>\n",
       "      <th>0</th>\n",
       "      <td>NeoCrypto</td>\n",
       "      <td>deposit</td>\n",
       "      <td>2020-01-01 05:24:00</td>\n",
       "      <td>1106.74</td>\n",
       "      <td>69e98239-9c94-3051-a72d-c0a45af23289</td>\n",
       "    </tr>\n",
       "    <tr>\n",
       "      <th>1</th>\n",
       "      <td>MusicDale</td>\n",
       "      <td>deposit</td>\n",
       "      <td>2020-01-01 05:37:00</td>\n",
       "      <td>23.85</td>\n",
       "      <td>b533175f-364e-390f-9b70-54ea4b236b4c</td>\n",
       "    </tr>\n",
       "    <tr>\n",
       "      <th>2</th>\n",
       "      <td>NeoCrypto</td>\n",
       "      <td>deposit</td>\n",
       "      <td>2020-01-01 06:06:00</td>\n",
       "      <td>975.45</td>\n",
       "      <td>589ca94a-d4dd-3cfd-9f87-f7df2c9fc56a</td>\n",
       "    </tr>\n",
       "    <tr>\n",
       "      <th>3</th>\n",
       "      <td>MusicDale</td>\n",
       "      <td>deposit</td>\n",
       "      <td>2020-01-01 06:07:00</td>\n",
       "      <td>29.43</td>\n",
       "      <td>4ef909d4-926c-3183-9af2-619f7df870d5</td>\n",
       "    </tr>\n",
       "    <tr>\n",
       "      <th>4</th>\n",
       "      <td>Crypwire</td>\n",
       "      <td>deposit</td>\n",
       "      <td>2020-01-01 07:04:00</td>\n",
       "      <td>479.38</td>\n",
       "      <td>481bb558-07a7-3afe-8b53-e5f1c876c5ee</td>\n",
       "    </tr>\n",
       "  </tbody>\n",
       "</table>\n",
       "</div>"
      ],
      "text/plain": [
       "    merchant activity         create_date   amount  \\\n",
       "0  NeoCrypto  deposit 2020-01-01 05:24:00  1106.74   \n",
       "1  MusicDale  deposit 2020-01-01 05:37:00    23.85   \n",
       "2  NeoCrypto  deposit 2020-01-01 06:06:00   975.45   \n",
       "3  MusicDale  deposit 2020-01-01 06:07:00    29.43   \n",
       "4   Crypwire  deposit 2020-01-01 07:04:00   479.38   \n",
       "\n",
       "                                 job_id  \n",
       "0  69e98239-9c94-3051-a72d-c0a45af23289  \n",
       "1  b533175f-364e-390f-9b70-54ea4b236b4c  \n",
       "2  589ca94a-d4dd-3cfd-9f87-f7df2c9fc56a  \n",
       "3  4ef909d4-926c-3183-9af2-619f7df870d5  \n",
       "4  481bb558-07a7-3afe-8b53-e5f1c876c5ee  "
      ]
     },
     "execution_count": 3,
     "metadata": {},
     "output_type": "execute_result"
    }
   ],
   "source": [
    "df.head()"
   ]
  },
  {
   "cell_type": "code",
   "execution_count": 4,
   "metadata": {},
   "outputs": [
    {
     "name": "stdout",
     "output_type": "stream",
     "text": [
      "<class 'pandas.core.frame.DataFrame'>\n",
      "RangeIndex: 12100 entries, 0 to 12099\n",
      "Data columns (total 5 columns):\n",
      " #   Column       Non-Null Count  Dtype         \n",
      "---  ------       --------------  -----         \n",
      " 0   merchant     12100 non-null  object        \n",
      " 1   activity     12100 non-null  object        \n",
      " 2   create_date  12100 non-null  datetime64[ns]\n",
      " 3   amount       12100 non-null  float64       \n",
      " 4   job_id       12100 non-null  object        \n",
      "dtypes: datetime64[ns](1), float64(1), object(3)\n",
      "memory usage: 472.8+ KB\n"
     ]
    }
   ],
   "source": [
    "df.info()"
   ]
  },
  {
   "cell_type": "markdown",
   "metadata": {},
   "source": [
    "No null values.  Dates are already in datetime format.  Amount is the only numerical data."
   ]
  },
  {
   "cell_type": "code",
   "execution_count": 5,
   "metadata": {},
   "outputs": [
    {
     "data": {
      "text/html": [
       "<div>\n",
       "<style scoped>\n",
       "    .dataframe tbody tr th:only-of-type {\n",
       "        vertical-align: middle;\n",
       "    }\n",
       "\n",
       "    .dataframe tbody tr th {\n",
       "        vertical-align: top;\n",
       "    }\n",
       "\n",
       "    .dataframe thead th {\n",
       "        text-align: right;\n",
       "    }\n",
       "</style>\n",
       "<table border=\"1\" class=\"dataframe\">\n",
       "  <thead>\n",
       "    <tr style=\"text-align: right;\">\n",
       "      <th></th>\n",
       "      <th>amount</th>\n",
       "    </tr>\n",
       "  </thead>\n",
       "  <tbody>\n",
       "    <tr>\n",
       "      <th>count</th>\n",
       "      <td>12100.000000</td>\n",
       "    </tr>\n",
       "    <tr>\n",
       "      <th>mean</th>\n",
       "      <td>252.947902</td>\n",
       "    </tr>\n",
       "    <tr>\n",
       "      <th>std</th>\n",
       "      <td>429.172444</td>\n",
       "    </tr>\n",
       "    <tr>\n",
       "      <th>min</th>\n",
       "      <td>5.630000</td>\n",
       "    </tr>\n",
       "    <tr>\n",
       "      <th>25%</th>\n",
       "      <td>24.240000</td>\n",
       "    </tr>\n",
       "    <tr>\n",
       "      <th>50%</th>\n",
       "      <td>30.435000</td>\n",
       "    </tr>\n",
       "    <tr>\n",
       "      <th>75%</th>\n",
       "      <td>421.332500</td>\n",
       "    </tr>\n",
       "    <tr>\n",
       "      <th>max</th>\n",
       "      <td>3091.120000</td>\n",
       "    </tr>\n",
       "  </tbody>\n",
       "</table>\n",
       "</div>"
      ],
      "text/plain": [
       "             amount\n",
       "count  12100.000000\n",
       "mean     252.947902\n",
       "std      429.172444\n",
       "min        5.630000\n",
       "25%       24.240000\n",
       "50%       30.435000\n",
       "75%      421.332500\n",
       "max     3091.120000"
      ]
     },
     "execution_count": 5,
     "metadata": {},
     "output_type": "execute_result"
    }
   ],
   "source": [
    "df.describe()"
   ]
  },
  {
   "cell_type": "markdown",
   "metadata": {},
   "source": [
    "Amnount has a low mean with a high standard deviation.  This a strong positive skew in the dataset with majority of values being small and few larger values.  "
   ]
  },
  {
   "cell_type": "code",
   "execution_count": 6,
   "metadata": {},
   "outputs": [
    {
     "data": {
      "text/html": [
       "<div>\n",
       "<style scoped>\n",
       "    .dataframe tbody tr th:only-of-type {\n",
       "        vertical-align: middle;\n",
       "    }\n",
       "\n",
       "    .dataframe tbody tr th {\n",
       "        vertical-align: top;\n",
       "    }\n",
       "\n",
       "    .dataframe thead th {\n",
       "        text-align: right;\n",
       "    }\n",
       "</style>\n",
       "<table border=\"1\" class=\"dataframe\">\n",
       "  <thead>\n",
       "    <tr style=\"text-align: right;\">\n",
       "      <th></th>\n",
       "      <th>merchant</th>\n",
       "      <th>activity</th>\n",
       "      <th>create_date</th>\n",
       "      <th>job_id</th>\n",
       "    </tr>\n",
       "  </thead>\n",
       "  <tbody>\n",
       "    <tr>\n",
       "      <th>count</th>\n",
       "      <td>12100</td>\n",
       "      <td>12100</td>\n",
       "      <td>12100</td>\n",
       "      <td>12100</td>\n",
       "    </tr>\n",
       "    <tr>\n",
       "      <th>unique</th>\n",
       "      <td>6</td>\n",
       "      <td>2</td>\n",
       "      <td>11701</td>\n",
       "      <td>12100</td>\n",
       "    </tr>\n",
       "    <tr>\n",
       "      <th>top</th>\n",
       "      <td>MusicDale</td>\n",
       "      <td>deposit</td>\n",
       "      <td>2020-06-04 10:29:00</td>\n",
       "      <td>97832abd-6231-3fe6-830f-0d41f7a2bea4</td>\n",
       "    </tr>\n",
       "    <tr>\n",
       "      <th>freq</th>\n",
       "      <td>6990</td>\n",
       "      <td>12063</td>\n",
       "      <td>3</td>\n",
       "      <td>1</td>\n",
       "    </tr>\n",
       "    <tr>\n",
       "      <th>first</th>\n",
       "      <td>NaN</td>\n",
       "      <td>NaN</td>\n",
       "      <td>2020-01-01 05:24:00</td>\n",
       "      <td>NaN</td>\n",
       "    </tr>\n",
       "    <tr>\n",
       "      <th>last</th>\n",
       "      <td>NaN</td>\n",
       "      <td>NaN</td>\n",
       "      <td>2020-06-30 23:45:00</td>\n",
       "      <td>NaN</td>\n",
       "    </tr>\n",
       "  </tbody>\n",
       "</table>\n",
       "</div>"
      ],
      "text/plain": [
       "         merchant activity          create_date  \\\n",
       "count       12100    12100                12100   \n",
       "unique          6        2                11701   \n",
       "top     MusicDale  deposit  2020-06-04 10:29:00   \n",
       "freq         6990    12063                    3   \n",
       "first         NaN      NaN  2020-01-01 05:24:00   \n",
       "last          NaN      NaN  2020-06-30 23:45:00   \n",
       "\n",
       "                                      job_id  \n",
       "count                                  12100  \n",
       "unique                                 12100  \n",
       "top     97832abd-6231-3fe6-830f-0d41f7a2bea4  \n",
       "freq                                       1  \n",
       "first                                    NaN  \n",
       "last                                     NaN  "
      ]
     },
     "execution_count": 6,
     "metadata": {},
     "output_type": "execute_result"
    }
   ],
   "source": [
    "df.drop('amount', axis=1).describe()"
   ]
  },
  {
   "cell_type": "markdown",
   "metadata": {},
   "source": [
    "Activity only has 2 unique categories and is thus a boolean classifier.  \n",
    "\n",
    "The create_date ranges from january 1 2020 to june 30 2020."
   ]
  },
  {
   "cell_type": "code",
   "execution_count": 7,
   "metadata": {
    "scrolled": true
   },
   "outputs": [
    {
     "data": {
      "text/plain": [
       "deposit       12063\n",
       "chargeback       37\n",
       "Name: activity, dtype: int64"
      ]
     },
     "execution_count": 7,
     "metadata": {},
     "output_type": "execute_result"
    }
   ],
   "source": [
    "df['activity'].value_counts()"
   ]
  },
  {
   "cell_type": "markdown",
   "metadata": {},
   "source": [
    "Very imbalanced dataset with only ~0.1% of data points belonging to the chargeback class."
   ]
  },
  {
   "cell_type": "code",
   "execution_count": 8,
   "metadata": {},
   "outputs": [
    {
     "name": "stdout",
     "output_type": "stream",
     "text": [
      "chargeback rate is 0.0030578512396694213\n",
      "chargeback percentage is 0.30578512396694213%\n"
     ]
    }
   ],
   "source": [
    "chargeback_rate = df[df['activity'] == 'chargeback'].count()[0] / df.count()[0]\n",
    "print('chargeback rate is {}'.format(chargeback_rate))\n",
    "print('chargeback percentage is {}%'.format(chargeback_rate*100))"
   ]
  },
  {
   "cell_type": "markdown",
   "metadata": {},
   "source": [
    "The chargeback rate is 0.3% of all transactions."
   ]
  },
  {
   "cell_type": "code",
   "execution_count": 9,
   "metadata": {},
   "outputs": [
    {
     "name": "stdout",
     "output_type": "stream",
     "text": [
      "portion of funds requesting a chargedback is 0.008311106116706577\n",
      "percentage of funds requesting a chargedback is 0.8311106116706577%\n"
     ]
    }
   ],
   "source": [
    "chargeback_portion = df[df['activity'] == 'chargeback']['amount'].sum() / df['amount'].sum()\n",
    "print('portion of funds requesting a chargedback is {}'.format(chargeback_portion))\n",
    "print('percentage of funds requesting a chargedback is {}%'.format(chargeback_portion*100))"
   ]
  },
  {
   "cell_type": "markdown",
   "metadata": {},
   "source": [
    "The portion of all funds that result in a chargeback is also 0.8%."
   ]
  },
  {
   "cell_type": "markdown",
   "metadata": {},
   "source": [
    "Let us find out when chargebacks occured, separated by month."
   ]
  },
  {
   "cell_type": "code",
   "execution_count": 11,
   "metadata": {},
   "outputs": [],
   "source": [
    "monthly_chargebacks = []\n",
    "monthly_chargeback_amount = []\n",
    "\n",
    "for months in df['create_date'].dt.month.unique():\n",
    "    monthly_chargebacks.append(df[(df['month'] == months) & (df['activity'] == 'chargeback')].count()[0])\n",
    "    monthly_chargeback_amount.append(df[(df['month'] == months) & (df['activity'] == 'chargeback')]['amount'].sum())"
   ]
  },
  {
   "cell_type": "code",
   "execution_count": 12,
   "metadata": {},
   "outputs": [],
   "source": [
    "df_monthly_chargebacks = pd.DataFrame(list(df['month'].unique()), columns=['month'])\n",
    "df_monthly_chargebacks['chargeback_count'] = monthly_chargebacks\n",
    "df_monthly_chargebacks['chargeback_amount'] = monthly_chargeback_amount"
   ]
  },
  {
   "cell_type": "code",
   "execution_count": 13,
   "metadata": {},
   "outputs": [
    {
     "data": {
      "text/html": [
       "<div>\n",
       "<style scoped>\n",
       "    .dataframe tbody tr th:only-of-type {\n",
       "        vertical-align: middle;\n",
       "    }\n",
       "\n",
       "    .dataframe tbody tr th {\n",
       "        vertical-align: top;\n",
       "    }\n",
       "\n",
       "    .dataframe thead th {\n",
       "        text-align: right;\n",
       "    }\n",
       "</style>\n",
       "<table border=\"1\" class=\"dataframe\">\n",
       "  <thead>\n",
       "    <tr style=\"text-align: right;\">\n",
       "      <th></th>\n",
       "      <th>month</th>\n",
       "      <th>chargeback_count</th>\n",
       "      <th>chargeback_amount</th>\n",
       "    </tr>\n",
       "  </thead>\n",
       "  <tbody>\n",
       "    <tr>\n",
       "      <th>0</th>\n",
       "      <td>1</td>\n",
       "      <td>3</td>\n",
       "      <td>1606.79</td>\n",
       "    </tr>\n",
       "    <tr>\n",
       "      <th>1</th>\n",
       "      <td>2</td>\n",
       "      <td>5</td>\n",
       "      <td>1931.41</td>\n",
       "    </tr>\n",
       "    <tr>\n",
       "      <th>2</th>\n",
       "      <td>3</td>\n",
       "      <td>5</td>\n",
       "      <td>3608.52</td>\n",
       "    </tr>\n",
       "    <tr>\n",
       "      <th>3</th>\n",
       "      <td>4</td>\n",
       "      <td>5</td>\n",
       "      <td>4799.96</td>\n",
       "    </tr>\n",
       "    <tr>\n",
       "      <th>4</th>\n",
       "      <td>6</td>\n",
       "      <td>11</td>\n",
       "      <td>7571.61</td>\n",
       "    </tr>\n",
       "    <tr>\n",
       "      <th>5</th>\n",
       "      <td>5</td>\n",
       "      <td>8</td>\n",
       "      <td>5919.26</td>\n",
       "    </tr>\n",
       "  </tbody>\n",
       "</table>\n",
       "</div>"
      ],
      "text/plain": [
       "   month  chargeback_count  chargeback_amount\n",
       "0      1                 3            1606.79\n",
       "1      2                 5            1931.41\n",
       "2      3                 5            3608.52\n",
       "3      4                 5            4799.96\n",
       "4      6                11            7571.61\n",
       "5      5                 8            5919.26"
      ]
     },
     "execution_count": 13,
     "metadata": {},
     "output_type": "execute_result"
    }
   ],
   "source": [
    "df_monthly_chargebacks"
   ]
  },
  {
   "cell_type": "code",
   "execution_count": 15,
   "metadata": {},
   "outputs": [],
   "source": [
    "df_monthly_chargebacks = df_monthly_chargebacks.sort_values('month', ascending=True)"
   ]
  },
  {
   "cell_type": "code",
   "execution_count": 16,
   "metadata": {},
   "outputs": [
    {
     "data": {
      "text/html": [
       "<div>\n",
       "<style scoped>\n",
       "    .dataframe tbody tr th:only-of-type {\n",
       "        vertical-align: middle;\n",
       "    }\n",
       "\n",
       "    .dataframe tbody tr th {\n",
       "        vertical-align: top;\n",
       "    }\n",
       "\n",
       "    .dataframe thead th {\n",
       "        text-align: right;\n",
       "    }\n",
       "</style>\n",
       "<table border=\"1\" class=\"dataframe\">\n",
       "  <thead>\n",
       "    <tr style=\"text-align: right;\">\n",
       "      <th></th>\n",
       "      <th>month</th>\n",
       "      <th>chargeback_count</th>\n",
       "      <th>chargeback_amount</th>\n",
       "    </tr>\n",
       "  </thead>\n",
       "  <tbody>\n",
       "    <tr>\n",
       "      <th>0</th>\n",
       "      <td>1</td>\n",
       "      <td>3</td>\n",
       "      <td>1606.79</td>\n",
       "    </tr>\n",
       "    <tr>\n",
       "      <th>1</th>\n",
       "      <td>2</td>\n",
       "      <td>5</td>\n",
       "      <td>1931.41</td>\n",
       "    </tr>\n",
       "    <tr>\n",
       "      <th>2</th>\n",
       "      <td>3</td>\n",
       "      <td>5</td>\n",
       "      <td>3608.52</td>\n",
       "    </tr>\n",
       "    <tr>\n",
       "      <th>3</th>\n",
       "      <td>4</td>\n",
       "      <td>5</td>\n",
       "      <td>4799.96</td>\n",
       "    </tr>\n",
       "    <tr>\n",
       "      <th>5</th>\n",
       "      <td>5</td>\n",
       "      <td>8</td>\n",
       "      <td>5919.26</td>\n",
       "    </tr>\n",
       "    <tr>\n",
       "      <th>4</th>\n",
       "      <td>6</td>\n",
       "      <td>11</td>\n",
       "      <td>7571.61</td>\n",
       "    </tr>\n",
       "  </tbody>\n",
       "</table>\n",
       "</div>"
      ],
      "text/plain": [
       "   month  chargeback_count  chargeback_amount\n",
       "0      1                 3            1606.79\n",
       "1      2                 5            1931.41\n",
       "2      3                 5            3608.52\n",
       "3      4                 5            4799.96\n",
       "5      5                 8            5919.26\n",
       "4      6                11            7571.61"
      ]
     },
     "execution_count": 16,
     "metadata": {},
     "output_type": "execute_result"
    }
   ],
   "source": [
    "df_monthly_chargebacks"
   ]
  },
  {
   "cell_type": "code",
   "execution_count": 17,
   "metadata": {},
   "outputs": [
    {
     "data": {
      "image/png": "[encoded data removed]",
      "text/plain": [
       "<Figure size 1152x864 with 1 Axes>"
      ]
     },
     "metadata": {},
     "output_type": "display_data"
    }
   ],
   "source": [
    "sns.set(rc={'figure.figsize':(16,12)})\n",
    "g = sns.barplot(df_monthly_chargebacks['month'], df_monthly_chargebacks['chargeback_count'])\n",
    "g.set_xticklabels(df_monthly_chargebacks['month'], rotation=60)\n",
    "plt.show()"
   ]
  },
  {
   "cell_type": "markdown",
   "metadata": {},
   "source": [
    "Chargebacks increase throughout the first half of the year.  They significantly increase in May and June, just after the end of the fiscal year that ends in April.  "
   ]
  },
  {
   "cell_type": "code",
   "execution_count": 18,
   "metadata": {},
   "outputs": [
    {
     "data": {
      "image/png": "[encoded data removed]",
      "text/plain": [
       "<Figure size 1152x864 with 1 Axes>"
      ]
     },
     "metadata": {},
     "output_type": "display_data"
    }
   ],
   "source": [
    "sns.set(rc={'figure.figsize':(16,12)})\n",
    "g = sns.barplot(df_monthly_chargebacks['month'], df_monthly_chargebacks['chargeback_amount'])\n",
    "g.set_xticklabels(df_monthly_chargebacks['month'], rotation=60)\n",
    "plt.show()"
   ]
  },
  {
   "cell_type": "markdown",
   "metadata": {},
   "source": [
    "It is also clear that the amount of funds requesting a chargeback are increasing, though more steadily.  This suggests that fraudsters where increasing the amounts they defrauded, even in months where the number of chargebacks stayed constant.   "
   ]
  }
 ],
 "metadata": {
  "kernelspec": {
   "display_name": "Python 3",
   "language": "python",
   "name": "python3"
  },
  "language_info": {
   "codemirror_mode": {
    "name": "ipython",
    "version": 3
   },
   "file_extension": ".py",
   "mimetype": "text/x-python",
   "name": "python",
   "nbconvert_exporter": "python",
   "pygments_lexer": "ipython3",
   "version": "3.7.6"
  }
 },
 "nbformat": 4,
 "nbformat_minor": 4
}
